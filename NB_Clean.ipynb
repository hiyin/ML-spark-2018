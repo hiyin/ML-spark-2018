{
 "cells": [
  {
   "cell_type": "code",
   "execution_count": 5,
   "metadata": {},
   "outputs": [],
   "source": [
    "from pyspark.ml.classification import NaiveBayes\n",
    "from pyspark.ml import Pipeline\n",
    "from pyspark.ml.feature import StringIndexer\n",
    "from pyspark.ml.feature import VectorAssembler\n",
    "from pyspark.ml.evaluation import MulticlassClassificationEvaluator"
   ]
  },
  {
   "cell_type": "code",
   "execution_count": 3,
   "metadata": {},
   "outputs": [
    {
     "data": {
      "text/plain": [
       "DataFrame[_c0: int, _c1: int, _c2: int, _c3: int, _c4: int, _c5: int, _c6: int, _c7: int, _c8: int, _c9: int, _c10: int, _c11: int, _c12: int, _c13: int, _c14: int, _c15: int, _c16: int, _c17: int, _c18: int, _c19: int, _c20: int, _c21: int, _c22: int, _c23: int, _c24: int, _c25: int, _c26: int, _c27: int, _c28: int, _c29: int, _c30: int, _c31: int, _c32: int, _c33: int, _c34: int, _c35: int, _c36: int, _c37: int, _c38: int, _c39: int, _c40: int, _c41: int, _c42: int, _c43: int, _c44: int, _c45: int, _c46: int, _c47: int, _c48: int, _c49: int, _c50: int, _c51: int, _c52: int, _c53: int, _c54: int, _c55: int, _c56: int, _c57: int, _c58: int, _c59: int, _c60: int, _c61: int, _c62: int, _c63: int, _c64: int, _c65: int, _c66: int, _c67: int, _c68: int, _c69: int, _c70: int, _c71: int, _c72: int, _c73: int, _c74: int, _c75: int, _c76: int, _c77: int, _c78: int, _c79: int, _c80: int, _c81: int, _c82: int, _c83: int, _c84: int, _c85: int, _c86: int, _c87: int, _c88: int, _c89: int, _c90: int, _c91: int, _c92: int, _c93: int, _c94: int, _c95: int, _c96: int, _c97: int, _c98: int, _c99: int, _c100: int, _c101: int, _c102: int, _c103: int, _c104: int, _c105: int, _c106: int, _c107: int, _c108: int, _c109: int, _c110: int, _c111: int, _c112: int, _c113: int, _c114: int, _c115: int, _c116: int, _c117: int, _c118: int, _c119: int, _c120: int, _c121: int, _c122: int, _c123: int, _c124: int, _c125: int, _c126: int, _c127: int, _c128: int, _c129: int, _c130: int, _c131: int, _c132: int, _c133: int, _c134: int, _c135: int, _c136: int, _c137: int, _c138: int, _c139: int, _c140: int, _c141: int, _c142: int, _c143: int, _c144: int, _c145: int, _c146: int, _c147: int, _c148: int, _c149: int, _c150: int, _c151: int, _c152: int, _c153: int, _c154: int, _c155: int, _c156: int, _c157: int, _c158: int, _c159: int, _c160: int, _c161: int, _c162: int, _c163: int, _c164: int, _c165: int, _c166: int, _c167: int, _c168: int, _c169: int, _c170: int, _c171: int, _c172: int, _c173: int, _c174: int, _c175: int, _c176: int, _c177: int, _c178: int, _c179: int, _c180: int, _c181: int, _c182: int, _c183: int, _c184: int, _c185: int, _c186: int, _c187: int, _c188: int, _c189: int, _c190: int, _c191: int, _c192: int, _c193: int, _c194: int, _c195: int, _c196: int, _c197: int, _c198: int, _c199: int, _c200: int, _c201: int, _c202: int, _c203: int, _c204: int, _c205: int, _c206: int, _c207: int, _c208: int, _c209: int, _c210: int, _c211: int, _c212: int, _c213: int, _c214: int, _c215: int, _c216: int, _c217: int, _c218: int, _c219: int, _c220: int, _c221: int, _c222: int, _c223: int, _c224: int, _c225: int, _c226: int, _c227: int, _c228: int, _c229: int, _c230: int, _c231: int, _c232: int, _c233: int, _c234: int, _c235: int, _c236: int, _c237: int, _c238: int, _c239: int, _c240: int, _c241: int, _c242: int, _c243: int, _c244: int, _c245: int, _c246: int, _c247: int, _c248: int, _c249: int, _c250: int, _c251: int, _c252: int, _c253: int, _c254: int, _c255: int, _c256: int, _c257: int, _c258: int, _c259: int, _c260: int, _c261: int, _c262: int, _c263: int, _c264: int, _c265: int, _c266: int, _c267: int, _c268: int, _c269: int, _c270: int, _c271: int, _c272: int, _c273: int, _c274: int, _c275: int, _c276: int, _c277: int, _c278: int, _c279: int, _c280: int, _c281: int, _c282: int, _c283: int, _c284: int, _c285: int, _c286: int, _c287: int, _c288: int, _c289: int, _c290: int, _c291: int, _c292: int, _c293: int, _c294: int, _c295: int, _c296: int, _c297: int, _c298: int, _c299: int, _c300: int, _c301: int, _c302: int, _c303: int, _c304: int, _c305: int, _c306: int, _c307: int, _c308: int, _c309: int, _c310: int, _c311: int, _c312: int, _c313: int, _c314: int, _c315: int, _c316: int, _c317: int, _c318: int, _c319: int, _c320: int, _c321: int, _c322: int, _c323: int, _c324: int, _c325: int, _c326: int, _c327: int, _c328: int, _c329: int, _c330: int, _c331: int, _c332: int, _c333: int, _c334: int, _c335: int, _c336: int, _c337: int, _c338: int, _c339: int, _c340: int, _c341: int, _c342: int, _c343: int, _c344: int, _c345: int, _c346: int, _c347: int, _c348: int, _c349: int, _c350: int, _c351: int, _c352: int, _c353: int, _c354: int, _c355: int, _c356: int, _c357: int, _c358: int, _c359: int, _c360: int, _c361: int, _c362: int, _c363: int, _c364: int, _c365: int, _c366: int, _c367: int, _c368: int, _c369: int, _c370: int, _c371: int, _c372: int, _c373: int, _c374: int, _c375: int, _c376: int, _c377: int, _c378: int, _c379: int, _c380: int, _c381: int, _c382: int, _c383: int, _c384: int, _c385: int, _c386: int, _c387: int, _c388: int, _c389: int, _c390: int, _c391: int, _c392: int, _c393: int, _c394: int, _c395: int, _c396: int, _c397: int, _c398: int, _c399: int, _c400: int, _c401: int, _c402: int, _c403: int, _c404: int, _c405: int, _c406: int, _c407: int, _c408: int, _c409: int, _c410: int, _c411: int, _c412: int, _c413: int, _c414: int, _c415: int, _c416: int, _c417: int, _c418: int, _c419: int, _c420: int, _c421: int, _c422: int, _c423: int, _c424: int, _c425: int, _c426: int, _c427: int, _c428: int, _c429: int, _c430: int, _c431: int, _c432: int, _c433: int, _c434: int, _c435: int, _c436: int, _c437: int, _c438: int, _c439: int, _c440: int, _c441: int, _c442: int, _c443: int, _c444: int, _c445: int, _c446: int, _c447: int, _c448: int, _c449: int, _c450: int, _c451: int, _c452: int, _c453: int, _c454: int, _c455: int, _c456: int, _c457: int, _c458: int, _c459: int, _c460: int, _c461: int, _c462: int, _c463: int, _c464: int, _c465: int, _c466: int, _c467: int, _c468: int, _c469: int, _c470: int, _c471: int, _c472: int, _c473: int, _c474: int, _c475: int, _c476: int, _c477: int, _c478: int, _c479: int, _c480: int, _c481: int, _c482: int, _c483: int, _c484: int, _c485: int, _c486: int, _c487: int, _c488: int, _c489: int, _c490: int, _c491: int, _c492: int, _c493: int, _c494: int, _c495: int, _c496: int, _c497: int, _c498: int, _c499: int, _c500: int, _c501: int, _c502: int, _c503: int, _c504: int, _c505: int, _c506: int, _c507: int, _c508: int, _c509: int, _c510: int, _c511: int, _c512: int, _c513: int, _c514: int, _c515: int, _c516: int, _c517: int, _c518: int, _c519: int, _c520: int, _c521: int, _c522: int, _c523: int, _c524: int, _c525: int, _c526: int, _c527: int, _c528: int, _c529: int, _c530: int, _c531: int, _c532: int, _c533: int, _c534: int, _c535: int, _c536: int, _c537: int, _c538: int, _c539: int, _c540: int, _c541: int, _c542: int, _c543: int, _c544: int, _c545: int, _c546: int, _c547: int, _c548: int, _c549: int, _c550: int, _c551: int, _c552: int, _c553: int, _c554: int, _c555: int, _c556: int, _c557: int, _c558: int, _c559: int, _c560: int, _c561: int, _c562: int, _c563: int, _c564: int, _c565: int, _c566: int, _c567: int, _c568: int, _c569: int, _c570: int, _c571: int, _c572: int, _c573: int, _c574: int, _c575: int, _c576: int, _c577: int, _c578: int, _c579: int, _c580: int, _c581: int, _c582: int, _c583: int, _c584: int, _c585: int, _c586: int, _c587: int, _c588: int, _c589: int, _c590: int, _c591: int, _c592: int, _c593: int, _c594: int, _c595: int, _c596: int, _c597: int, _c598: int, _c599: int, _c600: int, _c601: int, _c602: int, _c603: int, _c604: int, _c605: int, _c606: int, _c607: int, _c608: int, _c609: int, _c610: int, _c611: int, _c612: int, _c613: int, _c614: int, _c615: int, _c616: int, _c617: int, _c618: int, _c619: int, _c620: int, _c621: int, _c622: int, _c623: int, _c624: int, _c625: int, _c626: int, _c627: int, _c628: int, _c629: int, _c630: int, _c631: int, _c632: int, _c633: int, _c634: int, _c635: int, _c636: int, _c637: int, _c638: int, _c639: int, _c640: int, _c641: int, _c642: int, _c643: int, _c644: int, _c645: int, _c646: int, _c647: int, _c648: int, _c649: int, _c650: int, _c651: int, _c652: int, _c653: int, _c654: int, _c655: int, _c656: int, _c657: int, _c658: int, _c659: int, _c660: int, _c661: int, _c662: int, _c663: int, _c664: int, _c665: int, _c666: int, _c667: int, _c668: int, _c669: int, _c670: int, _c671: int, _c672: int, _c673: int, _c674: int, _c675: int, _c676: int, _c677: int, _c678: int, _c679: int, _c680: int, _c681: int, _c682: int, _c683: int, _c684: int, _c685: int, _c686: int, _c687: int, _c688: int, _c689: int, _c690: int, _c691: int, _c692: int, _c693: int, _c694: int, _c695: int, _c696: int, _c697: int, _c698: int, _c699: int, _c700: int, _c701: int, _c702: int, _c703: int, _c704: int, _c705: int, _c706: int, _c707: int, _c708: int, _c709: int, _c710: int, _c711: int, _c712: int, _c713: int, _c714: int, _c715: int, _c716: int, _c717: int, _c718: int, _c719: int, _c720: int, _c721: int, _c722: int, _c723: int, _c724: int, _c725: int, _c726: int, _c727: int, _c728: int, _c729: int, _c730: int, _c731: int, _c732: int, _c733: int, _c734: int, _c735: int, _c736: int, _c737: int, _c738: int, _c739: int, _c740: int, _c741: int, _c742: int, _c743: int, _c744: int, _c745: int, _c746: int, _c747: int, _c748: int, _c749: int, _c750: int, _c751: int, _c752: int, _c753: int, _c754: int, _c755: int, _c756: int, _c757: int, _c758: int, _c759: int, _c760: int, _c761: int, _c762: int, _c763: int, _c764: int, _c765: int, _c766: int, _c767: int, _c768: int, _c769: int, _c770: int, _c771: int, _c772: int, _c773: int, _c774: int, _c775: int, _c776: int, _c777: int, _c778: int, _c779: int, _c780: int, _c781: int, _c782: int, _c783: int, _c784: int]"
      ]
     },
     "execution_count": 3,
     "metadata": {},
     "output_type": "execute_result"
    }
   ],
   "source": [
    "sqlcontext = SQLContext(sc)\n",
    "data_loc = 'Data/'\n",
    "def ingest(file):\n",
    "    a = sqlContext.read.format('csv').options(header='false', inferSchema='true').load(data_loc+file)\n",
    "    return a\n",
    "trainingData = ingest('Train-label-28x28.csv')\n",
    "testData = ingest('Test-label-28x28.csv')\n",
    "trainingData.cache()\n",
    "testData.cache()\n"
   ]
  },
  {
   "cell_type": "code",
   "execution_count": 6,
   "metadata": {},
   "outputs": [
    {
     "name": "stdout",
     "output_type": "stream",
     "text": [
      "Model Accuracy:  0.8365\n"
     ]
    }
   ],
   "source": [
    "labelIndexer = StringIndexer(inputCol=\"_c0\", outputCol=\"label\")\n",
    "vecAssembler = VectorAssembler(inputCols=['_c%d' % i for i in range(1,785)], outputCol=\"features\")\n",
    "nb = NaiveBayes(smoothing=1.0, modelType=\"multinomial\")\n",
    "pipeline = Pipeline(stages=[labelIndexer, vecAssembler, nb])\n",
    "model = pipeline.fit(trainingData)\n",
    "predictions = model.transform(testData)\n",
    "\n",
    "evaluator = MulticlassClassificationEvaluator(labelCol=\"label\", predictionCol=\"prediction\",\n",
    "                                              metricName=\"accuracy\")\n",
    "\n",
    "accuracy = evaluator.evaluate(predictions)\n",
    "print (\"Model Accuracy: \", accuracy)"
   ]
  },
  {
   "cell_type": "code",
   "execution_count": null,
   "metadata": {},
   "outputs": [],
   "source": []
  }
 ],
 "metadata": {
  "kernelspec": {
   "display_name": "Python 3 Spark - local",
   "language": "python",
   "name": "spark-3-python"
  },
  "language_info": {
   "codemirror_mode": {
    "name": "ipython",
    "version": 3
   },
   "file_extension": ".py",
   "mimetype": "text/x-python",
   "name": "python",
   "nbconvert_exporter": "python",
   "pygments_lexer": "ipython3",
   "version": "3.5.4"
  }
 },
 "nbformat": 4,
 "nbformat_minor": 2
}
